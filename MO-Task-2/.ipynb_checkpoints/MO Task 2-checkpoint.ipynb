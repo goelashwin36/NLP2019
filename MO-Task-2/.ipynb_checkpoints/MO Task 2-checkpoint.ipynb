{
 "cells": [
  {
   "cell_type": "code",
   "execution_count": 1,
   "metadata": {},
   "outputs": [],
   "source": "# Taking two documents:\n\ndocs = [\"doc1\", \"doc2\"]\n\nimport nltk\nimport collections\nfrom nltk.corpus import stopwords\nfrom nltk.tokenize import word_tokenize\n"
  },
  {
   "cell_type": "code",
   "execution_count": 2,
   "metadata": {},
   "outputs": [],
   "source": "import string \nfrom sklearn.metrics.pairwise import cosine_similarity\nfrom sklearn.feature_extraction.text import CountVectorizer\nfrom nltk.corpus import stopwords\n\n# Stopwords\nstop_words = set(stopwords.words('english'))\nstop_words.update([',', ':', '.', '[', ']', '(', ')', ';', '?'])"
  },
  {
   "cell_type": "code",
   "execution_count": 3,
   "metadata": {},
   "outputs": [],
   "source": "# This array stores the content of all the docs\ndocs_content = []"
  },
  {
   "cell_type": "code",
   "execution_count": 4,
   "metadata": {},
   "outputs": [],
   "source": "# Reading docs and adding contents to a list\nfor doc in docs:\n    f = open(doc, 'r')\n    docs_content.append(f.read())"
  },
  {
   "cell_type": "code",
   "execution_count": 5,
   "metadata": {},
   "outputs": [
    {
     "data": {
      "text/plain": "['Cyber security refers to the body of technologies, processes, and practices designed to protect networks, devices, programs, and data from attack, damage, or unauthorized access. Cyber security may also be referred to as information technology security. Cyber security is important because government, military, corporate, financial, and medical organizations collect, process, and store unprecedented amounts of data on computers and other devices. A significant portion of that data can be sensitive information, whether that be intellectual property, financial data, personal information, or other types of data for which unauthorized access or exposure could have negative consequences. Organizations transmit sensitive data across networks and to other devices in the course of doing businesses, and cyber security describes the discipline dedicated to protecting that information and the systems used to process or store it. As the volume and sophistication of cyber attacks grow, companies and organizations, especially those that are tasked with safeguarding information relating to national security, health, or financial records, need to take steps to protect their sensitive business and personnel information.',\n \"Cybersecurity is the protection of internet-connected systems, including hardware, software and data, from cyberattacks. In a computing context, security comprises cybersecurity and physical security -- both are used by enterprises to protect against unauthorized access to data centers and other computerized systems. Information security, which is designed to maintain the confidentiality, integrity and availability of data, is a subset of cybersecurity. One of the most problematic elements of cybersecurity is the constantly evolving nature of security risks. The traditional approach has been to focus resources on crucial system components and protect against the biggest known threats, which meant leaving components undefended and not protecting systems against less dangerous risks. When an organization has a strong sense of network security and an effective incident response plan, it is better able to prevent and mitigate these attacks. For example, end user protection defends information and guards against loss or theft while also scanning computers for malicious code.Application security may include hardware, software, and procedures that identify or minimize security vulnerabilities. A router that prevents anyone from viewing a computer's IP address from the Internet is a form of hardware application security. But security measures at the application level are also typically built into the software, such as an application firewall that strictly defines what activities are allowed and prohibited. Procedures can entail things like an application security routine that includes protocols such as regular testing. \\n\"]"
     },
     "execution_count": 5,
     "metadata": {},
     "output_type": "execute_result"
    }
   ],
   "source": "docs_content"
  },
  {
   "cell_type": "code",
   "execution_count": 6,
   "metadata": {},
   "outputs": [],
   "source": "tokenized_content = []\nfiltered_content = []\n\nfor i in range(len(docs_content)):\n    # Tokenizing the content\n    tokenized_content.append(word_tokenize(docs_content[i]))\n    \n    # Filtering the content and removing stop words\n    filtered = [w for w in tokenized_content[i] if not w in stop_words]\n    filtered_content.append(filtered)    "
  },
  {
   "cell_type": "code",
   "execution_count": 7,
   "metadata": {},
   "outputs": [
    {
     "data": {
      "text/plain": "[['Cyber',\n  'security',\n  'refers',\n  'body',\n  'technologies',\n  'processes',\n  'practices',\n  'designed',\n  'protect',\n  'networks',\n  'devices',\n  'programs',\n  'data',\n  'attack',\n  'damage',\n  'unauthorized',\n  'access',\n  'Cyber',\n  'security',\n  'may',\n  'also',\n  'referred',\n  'information',\n  'technology',\n  'security',\n  'Cyber',\n  'security',\n  'important',\n  'government',\n  'military',\n  'corporate',\n  'financial',\n  'medical',\n  'organizations',\n  'collect',\n  'process',\n  'store',\n  'unprecedented',\n  'amounts',\n  'data',\n  'computers',\n  'devices',\n  'A',\n  'significant',\n  'portion',\n  'data',\n  'sensitive',\n  'information',\n  'whether',\n  'intellectual',\n  'property',\n  'financial',\n  'data',\n  'personal',\n  'information',\n  'types',\n  'data',\n  'unauthorized',\n  'access',\n  'exposure',\n  'could',\n  'negative',\n  'consequences',\n  'Organizations',\n  'transmit',\n  'sensitive',\n  'data',\n  'across',\n  'networks',\n  'devices',\n  'course',\n  'businesses',\n  'cyber',\n  'security',\n  'describes',\n  'discipline',\n  'dedicated',\n  'protecting',\n  'information',\n  'systems',\n  'used',\n  'process',\n  'store',\n  'As',\n  'volume',\n  'sophistication',\n  'cyber',\n  'attacks',\n  'grow',\n  'companies',\n  'organizations',\n  'especially',\n  'tasked',\n  'safeguarding',\n  'information',\n  'relating',\n  'national',\n  'security',\n  'health',\n  'financial',\n  'records',\n  'need',\n  'take',\n  'steps',\n  'protect',\n  'sensitive',\n  'business',\n  'personnel',\n  'information'],\n ['Cybersecurity',\n  'protection',\n  'internet-connected',\n  'systems',\n  'including',\n  'hardware',\n  'software',\n  'data',\n  'cyberattacks',\n  'In',\n  'computing',\n  'context',\n  'security',\n  'comprises',\n  'cybersecurity',\n  'physical',\n  'security',\n  '--',\n  'used',\n  'enterprises',\n  'protect',\n  'unauthorized',\n  'access',\n  'data',\n  'centers',\n  'computerized',\n  'systems',\n  'Information',\n  'security',\n  'designed',\n  'maintain',\n  'confidentiality',\n  'integrity',\n  'availability',\n  'data',\n  'subset',\n  'cybersecurity',\n  'One',\n  'problematic',\n  'elements',\n  'cybersecurity',\n  'constantly',\n  'evolving',\n  'nature',\n  'security',\n  'risks',\n  'The',\n  'traditional',\n  'approach',\n  'focus',\n  'resources',\n  'crucial',\n  'system',\n  'components',\n  'protect',\n  'biggest',\n  'known',\n  'threats',\n  'meant',\n  'leaving',\n  'components',\n  'undefended',\n  'protecting',\n  'systems',\n  'less',\n  'dangerous',\n  'risks',\n  'When',\n  'organization',\n  'strong',\n  'sense',\n  'network',\n  'security',\n  'effective',\n  'incident',\n  'response',\n  'plan',\n  'better',\n  'able',\n  'prevent',\n  'mitigate',\n  'attacks',\n  'For',\n  'example',\n  'end',\n  'user',\n  'protection',\n  'defends',\n  'information',\n  'guards',\n  'loss',\n  'theft',\n  'also',\n  'scanning',\n  'computers',\n  'malicious',\n  'code.Application',\n  'security',\n  'may',\n  'include',\n  'hardware',\n  'software',\n  'procedures',\n  'identify',\n  'minimize',\n  'security',\n  'vulnerabilities',\n  'A',\n  'router',\n  'prevents',\n  'anyone',\n  'viewing',\n  'computer',\n  \"'s\",\n  'IP',\n  'address',\n  'Internet',\n  'form',\n  'hardware',\n  'application',\n  'security',\n  'But',\n  'security',\n  'measures',\n  'application',\n  'level',\n  'also',\n  'typically',\n  'built',\n  'software',\n  'application',\n  'firewall',\n  'strictly',\n  'defines',\n  'activities',\n  'allowed',\n  'prohibited',\n  'Procedures',\n  'entail',\n  'things',\n  'like',\n  'application',\n  'security',\n  'routine',\n  'includes',\n  'protocols',\n  'regular',\n  'testing']]"
     },
     "execution_count": 7,
     "metadata": {},
     "output_type": "execute_result"
    }
   ],
   "source": "filtered_content"
  },
  {
   "cell_type": "code",
   "execution_count": 8,
   "metadata": {},
   "outputs": [
    {
     "data": {
      "text/plain": "['Cyber security refers body technologies processes practices designed protect networks devices programs data attack damage unauthorized access Cyber security may also referred information technology security Cyber security important government military corporate financial medical organizations collect process store unprecedented amounts data computers devices A significant portion data sensitive information whether intellectual property financial data personal information types data unauthorized access exposure could negative consequences Organizations transmit sensitive data across networks devices course businesses cyber security describes discipline dedicated protecting information systems used process store As volume sophistication cyber attacks grow companies organizations especially tasked safeguarding information relating national security health financial records need take steps protect sensitive business personnel information',\n \"Cybersecurity protection internet-connected systems including hardware software data cyberattacks In computing context security comprises cybersecurity physical security -- used enterprises protect unauthorized access data centers computerized systems Information security designed maintain confidentiality integrity availability data subset cybersecurity One problematic elements cybersecurity constantly evolving nature security risks The traditional approach focus resources crucial system components protect biggest known threats meant leaving components undefended protecting systems less dangerous risks When organization strong sense network security effective incident response plan better able prevent mitigate attacks For example end user protection defends information guards loss theft also scanning computers malicious code.Application security may include hardware software procedures identify minimize security vulnerabilities A router prevents anyone viewing computer 's IP address Internet form hardware application security But security measures application level also typically built software application firewall strictly defines activities allowed prohibited Procedures entail things like application security routine includes protocols regular testing\"]"
     },
     "execution_count": 8,
     "metadata": {},
     "output_type": "execute_result"
    }
   ],
   "source": "# Without Steming\nX = [\" \".join(filtered_content[i]) for i in range(len(docs))]\nX"
  },
  {
   "cell_type": "code",
   "execution_count": 9,
   "metadata": {},
   "outputs": [
    {
     "data": {
      "text/plain": "array([[ 0,  2,  1,  0,  0,  0,  1,  1,  0,  0,  0,  1,  1,  1,  0,  0,\n         0,  1,  0,  1,  1,  0,  0,  0,  1,  1,  0,  0,  0,  0,  1,  0,\n         0,  0,  1,  0,  0,  1,  1,  1,  0,  5,  0,  0,  1,  0,  6,  1,\n         0,  0,  1,  1,  3,  1,  0,  0,  0,  0,  0,  1,  0,  0,  1,  3,\n         0,  0,  0,  0,  1,  1,  0,  0,  1,  0,  1,  0,  0,  0,  0,  0,\n         6,  0,  1,  0,  0,  0,  0,  0,  0,  0,  0,  0,  0,  1,  0,  0,\n         1,  1,  0,  0,  1,  0,  1,  1,  0,  2,  0,  0,  3,  1,  1,  0,\n         0,  1,  1,  0,  0,  0,  0,  2,  1,  1,  0,  1,  2,  1,  0,  0,\n         1,  1,  1,  0,  1,  0,  0,  0,  0,  0,  1,  0,  6,  0,  3,  1,\n         0,  1,  1,  2,  0,  0,  0,  0,  1,  1,  1,  1,  1,  0,  0,  0,\n         0,  0,  0,  1,  1,  0,  2,  0,  1,  1,  0,  0,  1,  0,  0,  1],\n       [ 1,  1,  0,  1,  1,  1,  2,  0,  1,  5,  1,  0,  0,  1,  1,  1,\n         1,  0,  1,  0,  0,  1,  1,  1,  0,  0,  2,  1,  1,  1,  1,  1,\n         1,  1,  0,  1,  1,  0,  0,  0,  1,  0,  1,  4,  0,  1,  3,  0,\n         1,  1,  0,  1,  0,  0,  1,  1,  1,  1,  1,  0,  1,  1,  0,  0,\n         1,  1,  1,  1,  0,  0,  1,  3,  0,  1,  0,  1,  1,  1,  1,  1,\n         2,  1,  0,  2,  1,  1,  1,  1,  1,  1,  1,  1,  1,  1,  1,  1,\n         0,  0,  1,  1,  0,  1,  0,  0,  1,  0,  1,  1,  0,  0,  0,  1,\n         1,  0,  0,  1,  1,  1,  2,  0,  0,  0,  1,  0,  2,  1,  2,  1,\n         0,  0,  0,  1,  0,  1,  1,  2,  1,  1,  0,  1, 10,  1,  0,  0,\n         3,  0,  0,  0,  1,  1,  1,  1,  3,  0,  0,  0,  0,  1,  1,  1,\n         1,  1,  1,  0,  0,  1,  1,  1,  0,  1,  1,  1,  0,  1,  1,  0]])"
     },
     "execution_count": 9,
     "metadata": {},
     "output_type": "execute_result"
    }
   ],
   "source": "vectorizerX = CountVectorizer().fit_transform(X)\nvectorsX = vectorizerX.toarray()\nvectorsX"
  },
  {
   "cell_type": "code",
   "execution_count": 10,
   "metadata": {},
   "outputs": [
    {
     "name": "stdout",
     "output_type": "stream",
     "text": "[[1.         0.38907238]\n [0.38907238 1.        ]]\n"
    }
   ],
   "source": "csimX = cosine_similarity(vectorsX)\nprint(csimX)"
  },
  {
   "cell_type": "code",
   "execution_count": 11,
   "metadata": {},
   "outputs": [],
   "source": "def cosine_sim(vec1, vec2):\n    vec1 = vec1.reshape(1, -1)\n    vec2 = vec2.reshape(1, -1)\n    \n    return cosine_similarity(vec1, vec2)[0][0]"
  },
  {
   "cell_type": "code",
   "execution_count": 12,
   "metadata": {},
   "outputs": [
    {
     "data": {
      "text/plain": "0.3890723784845375"
     },
     "execution_count": 12,
     "metadata": {},
     "output_type": "execute_result"
    }
   ],
   "source": "cosine_sim(vectorsX[0], vectorsX[1])"
  },
  {
   "cell_type": "code",
   "execution_count": 14,
   "metadata": {},
   "outputs": [
    {
     "data": {
      "text/plain": "['cyber secur refer bodi technolog process practic design protect network devic program data attack damag unauthor access cyber secur may also refer inform technolog secur cyber secur import govern militari corpor financi medic organ collect process store unpreced amount data comput devic a signific portion data sensit inform whether intellectu properti financi data person inform type data unauthor access exposur could negat consequ organ transmit sensit data across network devic cours busi cyber secur describ disciplin dedic protect inform system use process store as volum sophist cyber attack grow compani organ especi task safeguard inform relat nation secur health financi record need take step protect sensit busi personnel inform',\n \"cybersecur protect internet-connect system includ hardwar softwar data cyberattack in comput context secur compris cybersecur physic secur -- use enterpris protect unauthor access data center computer system inform secur design maintain confidenti integr avail data subset cybersecur one problemat element cybersecur constant evolv natur secur risk the tradit approach focus resourc crucial system compon protect biggest known threat meant leav compon undefend protect system less danger risk when organ strong sens network secur effect incid respons plan better abl prevent mitig attack for exampl end user protect defend inform guard loss theft also scan comput malici code.appl secur may includ hardwar softwar procedur identifi minim secur vulner a router prevent anyon view comput 's ip address internet form hardwar applic secur but secur measur applic level also typic built softwar applic firewal strict defin activ allow prohibit procedur entail thing like applic secur routin includ protocol regular test\"]"
     },
     "execution_count": 14,
     "metadata": {},
     "output_type": "execute_result"
    }
   ],
   "source": "# With Stemming\n\nfrom nltk.stem import SnowballStemmer\nstemmersnow = SnowballStemmer('english')\n\n\nY = [\" \".join([str(stemmersnow.stem(token)) for token in filtered_content[i]]) for i in range(len(docs))]\nY\n\n"
  },
  {
   "cell_type": "code",
   "execution_count": 15,
   "metadata": {},
   "outputs": [
    {
     "data": {
      "text/plain": "array([[ 0,  2,  1,  0,  0,  0,  1,  1,  0,  0,  0,  0,  1,  2,  0,  0,\n         0,  1,  0,  2,  0,  0,  0,  1,  1,  0,  0,  1,  0,  0,  0,  1,\n         0,  0,  1,  1,  1,  0,  5,  0,  0,  1,  0,  6,  1,  0,  0,  1,\n         1,  3,  1,  0,  0,  0,  0,  0,  1,  0,  0,  1,  3,  0,  0,  0,\n         0,  1,  1,  0,  0,  1,  0,  1,  0,  0,  0,  6,  0,  1,  0,  0,\n         0,  0,  0,  0,  0,  0,  0,  0,  1,  0,  0,  1,  1,  0,  0,  1,\n         0,  1,  1,  2,  0,  3,  1,  1,  0,  0,  1,  1,  0,  0,  0,  3,\n         1,  0,  1,  3,  0,  1,  2,  0,  1,  0,  0,  0,  0,  0,  1,  0,\n         6,  0,  3,  1,  0,  1,  1,  2,  0,  0,  0,  1,  1,  1,  2,  0,\n         0,  0,  0,  0,  0,  1,  1,  0,  2,  0,  1,  1,  0,  0,  1,  0,\n         0,  1],\n       [ 1,  1,  0,  1,  1,  1,  2,  0,  1,  1,  4,  1,  0,  1,  1,  1,\n         1,  0,  1,  0,  1,  1,  1,  0,  0,  2,  1,  3,  1,  1,  1,  0,\n         1,  1,  0,  0,  0,  1,  0,  1,  4,  0,  1,  3,  0,  1,  1,  0,\n         1,  0,  0,  1,  1,  1,  1,  1,  0,  1,  1,  0,  0,  1,  1,  1,\n         1,  0,  0,  1,  3,  0,  1,  0,  1,  1,  3,  2,  1,  0,  2,  1,\n         1,  1,  1,  1,  1,  1,  1,  1,  1,  1,  1,  0,  0,  1,  1,  0,\n         1,  0,  0,  1,  1,  1,  0,  0,  1,  1,  0,  0,  2,  1,  2,  0,\n         0,  1,  0,  5,  1,  0,  0,  1,  0,  1,  1,  2,  1,  1,  0,  1,\n        10,  1,  0,  0,  3,  0,  0,  0,  1,  1,  1,  4,  0,  0,  0,  1,\n         1,  1,  1,  1,  1,  0,  0,  1,  1,  1,  0,  1,  1,  1,  0,  1,\n         1,  0]])"
     },
     "execution_count": 15,
     "metadata": {},
     "output_type": "execute_result"
    }
   ],
   "source": "vectorizerY = CountVectorizer().fit_transform(Y)\nvectorsY = vectorizerY.toarray()\nvectorsY"
  },
  {
   "cell_type": "code",
   "execution_count": 16,
   "metadata": {},
   "outputs": [
    {
     "name": "stdout",
     "output_type": "stream",
     "text": "[[1.         0.42433918]\n [0.42433918 1.        ]]\n"
    }
   ],
   "source": "csimY = cosine_similarity(vectorsY)\nprint(csimY)"
  },
  {
   "cell_type": "code",
   "execution_count": 17,
   "metadata": {},
   "outputs": [
    {
     "data": {
      "text/plain": "0.42433918422470845"
     },
     "execution_count": 17,
     "metadata": {},
     "output_type": "execute_result"
    }
   ],
   "source": "cosine_sim(vectorsY[0], vectorsY[1])"
  },
  {
   "cell_type": "code",
   "execution_count": null,
   "metadata": {},
   "outputs": [],
   "source": ""
  }
 ],
 "metadata": {
  "kernelspec": {
   "display_name": "Python 3",
   "language": "python",
   "name": "python3"
  },
  "language_info": {
   "codemirror_mode": {
    "name": "ipython",
    "version": 2
   },
   "file_extension": ".py",
   "mimetype": "text/x-python",
   "name": "python",
   "nbconvert_exporter": "python",
   "pygments_lexer": "ipython2",
   "version": "2.7.17"
  }
 },
 "nbformat": 4,
 "nbformat_minor": 4
}
