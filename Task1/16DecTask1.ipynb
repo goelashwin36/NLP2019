{
 "cells": [
  {
   "cell_type": "code",
   "execution_count": 1,
   "metadata": {},
   "outputs": [],
   "source": [
    "# Represent a piece of text\n",
    "randomString=\"Ashwin Goel\""
   ]
  },
  {
   "cell_type": "code",
   "execution_count": 2,
   "metadata": {},
   "outputs": [
    {
     "name": "stdout",
     "output_type": "stream",
     "text": [
      "Enter some text: Hi, this is Ashwin\n",
      "Hi, this is Ashwin\n",
      "\n"
     ]
    }
   ],
   "source": [
    "# Taking text input and representing it in a variable\n",
    "randomInput = input(\"Enter some text: \")\n",
    "print(randomInput, end=\"\\n\\n\")\n"
   ]
  },
  {
   "cell_type": "code",
   "execution_count": 3,
   "metadata": {},
   "outputs": [
    {
     "name": "stdout",
     "output_type": "stream",
     "text": [
      "William Shakespeare (bapt. 26 April 1564 – 23 April 1616)[a] was an\n",
      "English poet, playwright, and actor, widely regarded as the greatest writer in the\n",
      "English language and the world's greatest dramatist.[2][3][4] He is often\n",
      "called England's national poet and the \"Bard of Avon\" (or simply \"the Bard\").[5][b]\n",
      "His extant works, including collaborations, consist of some 39 plays,[c] 154 sonnets,\n",
      "two long narrative poems, and a few other verses, some of uncertain authorship.\n",
      "His plays have been translated into every major living language and are performed\n",
      "more often than those of any other playwright.[7]\n",
      "\n"
     ]
    }
   ],
   "source": [
    "# Represent a paragraph on Shakespeare and print it\n",
    "shakespeare = '''William Shakespeare (bapt. 26 April 1564 – 23 April 1616)[a] was an\n",
    "English poet, playwright, and actor, widely regarded as the greatest writer in the\n",
    "English language and the world's greatest dramatist.[2][3][4] He is often\n",
    "called England's national poet and the \"Bard of Avon\" (or simply \"the Bard\").[5][b]\n",
    "His extant works, including collaborations, consist of some 39 plays,[c] 154 sonnets,\n",
    "two long narrative poems, and a few other verses, some of uncertain authorship.\n",
    "His plays have been translated into every major living language and are performed\n",
    "more often than those of any other playwright.[7]'''\n",
    "print(shakespeare, end=\"\\n\\n\")\n"
   ]
  },
  {
   "cell_type": "code",
   "execution_count": 4,
   "metadata": {},
   "outputs": [
    {
     "name": "stdout",
     "output_type": "stream",
     "text": [
      "विलियम शेक्सपियर (बपतिस्मा। 26 अप्रैल 1564 - 23 अप्रैल 1616) [a] एक था\n",
      "अंग्रेजी कवि, नाटककार और अभिनेता, व्यापक रूप से सबसे बड़े लेखक के रूप में माने जाते हैं\n",
      "अंग्रेजी भाषा और दुनिया का सबसे बड़ा नाटककार। [२] [३] [४] वह अक्सर होता है\n",
      "इंग्लैंड के राष्ट्रीय कवि और \"बार्ड ऑफ एवन\" (या बस \"बार्ड\") कहा जाता है। [५] [बी]\n",
      "उनके कार्यों में सहयोग शामिल है, जिसमें कुछ 39 नाटक शामिल हैं, [c] 154 सॉनेट्स,\n",
      "दो लंबी कथा कविताएँ, और कुछ अन्य छंद, कुछ अनिश्चित लेखक।\n",
      "उनके नाटकों का हर प्रमुख भाषा में अनुवाद किया गया है और उनका प्रदर्शन किया गया है\n",
      "किसी भी अन्य नाटककार की तुलना में अधिक बार।\n",
      "\n"
     ]
    }
   ],
   "source": [
    "hindi = '''विलियम शेक्सपियर (बपतिस्मा। 26 अप्रैल 1564 - 23 अप्रैल 1616) [a] एक था\n",
    "अंग्रेजी कवि, नाटककार और अभिनेता, व्यापक रूप से सबसे बड़े लेखक के रूप में माने जाते हैं\n",
    "अंग्रेजी भाषा और दुनिया का सबसे बड़ा नाटककार। [२] [३] [४] वह अक्सर होता है\n",
    "इंग्लैंड के राष्ट्रीय कवि और \"बार्ड ऑफ एवन\" (या बस \"बार्ड\") कहा जाता है। [५] [बी]\n",
    "उनके कार्यों में सहयोग शामिल है, जिसमें कुछ 39 नाटक शामिल हैं, [c] 154 सॉनेट्स,\n",
    "दो लंबी कथा कविताएँ, और कुछ अन्य छंद, कुछ अनिश्चित लेखक।\n",
    "उनके नाटकों का हर प्रमुख भाषा में अनुवाद किया गया है और उनका प्रदर्शन किया गया है\n",
    "किसी भी अन्य नाटककार की तुलना में अधिक बार।'''\n",
    "print(hindi, end=\"\\n\\n\")"
   ]
  },
  {
   "cell_type": "code",
   "execution_count": null,
   "metadata": {},
   "outputs": [],
   "source": []
  }
 ],
 "metadata": {
  "kernelspec": {
   "display_name": "Python 3",
   "language": "python",
   "name": "python3"
  },
  "language_info": {
   "codemirror_mode": {
    "name": "ipython",
    "version": 3
   },
   "file_extension": ".py",
   "mimetype": "text/x-python",
   "name": "python",
   "nbconvert_exporter": "python",
   "pygments_lexer": "ipython3",
   "version": "3.7.5"
  }
 },
 "nbformat": 4,
 "nbformat_minor": 2
}
